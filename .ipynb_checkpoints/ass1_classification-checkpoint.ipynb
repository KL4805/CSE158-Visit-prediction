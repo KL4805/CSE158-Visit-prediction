{
 "cells": [
  {
   "cell_type": "code",
   "execution_count": 1,
   "metadata": {},
   "outputs": [],
   "source": [
    "import numpy as np\n",
    "import scipy as sp\n",
    "import sklearn\n",
    "import nltk\n",
    "import tensorflow as tf\n",
    "import matplotlib\n",
    "import gzip\n",
    "import random\n",
    "from collections import defaultdict\n",
    "import sklearn.decomposition\n",
    "\n",
    "regularization_rate = 0.01\n",
    "Reduction_Size = 20\n",
    "batch_size = 200\n",
    "max_iter = 50000\n",
    "learning_rate = 0.0001\n",
    "\n",
    "def readGz(f):\n",
    "  for l in gzip.open(f):\n",
    "    yield eval(l)"
   ]
  },
  {
   "cell_type": "code",
   "execution_count": 5,
   "metadata": {},
   "outputs": [],
   "source": [
    "data = []\n",
    "for l in readGz('train.json.gz'):\n",
    "    data.append(l)\n",
    "data = data[:6]"
   ]
  },
  {
   "cell_type": "code",
   "execution_count": 6,
   "metadata": {},
   "outputs": [],
   "source": [
    "userList = []\n",
    "businessList = []\n",
    "userDict = defaultdict(int)\n",
    "businessDict = defaultdict(int)\n",
    "visitedDict = defaultdict(int)\n",
    "for d in data:\n",
    "    u = d['userID']\n",
    "    b = d['businessID']\n",
    "    if u not in userList:\n",
    "        userList.append(u)\n",
    "    if b not in businessList:\n",
    "        businessList.append(b)\n",
    "    visitedDict[(u,b)]+=1\n",
    "\n",
    "    \n",
    "for i in range(len(userList)):\n",
    "    userDict[userList[i]] = i\n",
    "for i in range(len(businessList)):\n",
    "    businessDict[businessList[i]] = i"
   ]
  },
  {
   "cell_type": "code",
   "execution_count": 8,
   "metadata": {},
   "outputs": [
    {
     "name": "stdout",
     "output_type": "stream",
     "text": [
      "[{'rating': 5.0, 'reviewHash': 'R471510664', 'businessID': 'B408037852', 'unixReviewTime': 1364143460, 'reviewText': u\"This is where i go to shop for gifts from my mom. She loves this stuff. Cna't get enough. I like that you can customize the items. Store is well alid out and shoppable.\", 'userID': 'U093387342', 'reviewTime': u'Mar 24, 2013', 'categories': [u\"Women's Clothing Store\", u'Fashion Accessories Store', u'Shoe Store']}, {'rating': 5.0, 'reviewHash': 'R954562590', 'businessID': 'B410583770', 'unixReviewTime': 1316616175, 'reviewText': u\"Quaint, stylish atmosphere in a small place right off South Congress. The food and service were great. It's pricey, but the happy hour deals are considerable. Great for a date!\", 'userID': 'U637588426', 'reviewTime': u'Sep 21, 2011', 'categories': [u'Italian Restaurant', u'European Restaurant']}, {'rating': 4.0, 'reviewHash': 'R567271252', 'businessID': 'B423621081', 'unixReviewTime': 1378865039, 'reviewText': u\"I'm a vegetarian, but every so often I want a hotdog with lots of toppings.  And a tall can of beer.  Frank has got that covered.  And they have a cool warehouse space with some pinball machines.  Prices are a little high for hotdogs...fancy hotdogs, but hotdogs nonetheless.  Good location and service, but gets crowded and loud.\", 'userID': 'U985379327', 'reviewTime': u'Sep 10, 2013', 'categories': [u'American Restaurant', u'Cafe', u'Hot Dog Restaurant'], 'categoryID': 0}, {'rating': 3.0, 'reviewHash': 'R357632647', 'businessID': 'B088348224', 'unixReviewTime': 1353384745, 'reviewText': u'Small, Boring, waste of money, not worth the drive. If you happen to be at the park for something else is the only time worth going.', 'userID': 'U189370087', 'reviewTime': u'Nov 19, 2012', 'categories': [u'Park', u'Garden', u'Garden Center']}, {'rating': 3.0, 'reviewHash': 'R067705866', 'businessID': 'B611740995', 'unixReviewTime': 1358899200, 'reviewText': u'While burgers may be the thing here, this beef joint happens to serve up the best salads in town. As for the burgers, usually two napkins will do just fine.', 'userID': 'U985118747', 'reviewTime': u'Jan 22, 2013', 'categories': [u'Hamburger Restaurant']}, {'rating': 5.0, 'reviewHash': 'R181889053', 'businessID': 'B282831257', 'unixReviewTime': 1379787724, 'reviewText': u'This is one of the mst romantic resturantst that I have been to. THe food is great and the environment is on point. Make sure that you sign up for the newsletter for some fabulous deals through-out the year.', 'userID': 'U004020913', 'reviewTime': u'Sep 21, 2013', 'categories': [u'Fondue Restaurant', u'Live Music Venue', u'Wine Bar']}]\n",
      "['U093387342', 'U637588426', 'U985379327', 'U189370087', 'U985118747', 'U004020913']\n",
      "['B408037852', 'B410583770', 'B423621081', 'B088348224', 'B611740995', 'B282831257']\n"
     ]
    }
   ],
   "source": [
    "print data\n",
    "print userList\n",
    "print businessList"
   ]
  },
  {
   "cell_type": "code",
   "execution_count": 10,
   "metadata": {},
   "outputs": [
    {
     "name": "stdout",
     "output_type": "stream",
     "text": [
      "4.16666666667\n"
     ]
    }
   ],
   "source": [
    "random.shuffle(data)\n",
    "train_data = data[0:6]\n",
    "#validation_data = data[160000:200000]\n",
    "negative_pair = []\n",
    "randomCnt = 0\n",
    "while(randomCnt) < 40000:\n",
    "    ruIndex = random.randint(0, len(userList)-1)\n",
    "    rbIndex = random.randint(0, len(businessList)-1)\n",
    "    ru = userList[ruIndex]\n",
    "    rb = businessList[rbIndex]\n",
    "    if visitedDict[(ru, rb)]==0:\n",
    "        randomCnt +=1\n",
    "        negative_pair.append((ru,rb))\n",
    "#Finished creating dataset\n",
    "\n",
    "ratings = np.array([d['rating'] for d in train_data])\n",
    "avgRating = np.mean(ratings)\n",
    "print avgRating\n"
   ]
  },
  {
   "cell_type": "code",
   "execution_count": 11,
   "metadata": {},
   "outputs": [],
   "source": [
    "def Mean(lst):\n",
    "    if len(lst) != 0:\n",
    "        return np.mean(lst)\n",
    "    else:\n",
    "        return avgRating"
   ]
  },
  {
   "cell_type": "code",
   "execution_count": 12,
   "metadata": {},
   "outputs": [
    {
     "name": "stdout",
     "output_type": "stream",
     "text": [
      "[5.0, 5.0, 4.0, 3.0, 3.0, 5.0]\n"
     ]
    }
   ],
   "source": [
    "businessRat = [[] for i in range(len(businessList))]\n",
    "for d in train_data:\n",
    "    businessRat[businessDict[d['businessID']]].append(d['rating'])\n",
    "businessAvg = [Mean(businessRat[i]) for i in range(len(businessList))]\n",
    "print businessAvg[:20]"
   ]
  },
  {
   "cell_type": "code",
   "execution_count": 33,
   "metadata": {},
   "outputs": [],
   "source": [
    "categoryList = []\n",
    "for d in train_data:\n",
    "    for c in d['categories']:\n",
    "        if c not in categoryList:\n",
    "            categoryList.append(c)\n",
    "categoryDict = defaultdict(int)\n",
    "for c in categoryList:\n",
    "    categoryDict[c] = categoryList.index(c)\n",
    "\n",
    "businessCategory = [[0 for j in range(len(categoryList))] for i in range(len(businessList))]\n",
    "userHistory = [[0 for j in range(len(categoryList))] for i in range(len(userList))]\n",
    "for d in train_data:\n",
    "    for c in d['categories']:\n",
    "        userHistory[userDict[d['userID']]][categoryDict[c]]+=1.0\n",
    "        businessCategory[businessDict[d['businessID']]][categoryDict[c]]=1\n"
   ]
  },
  {
   "cell_type": "code",
   "execution_count": 34,
   "metadata": {
    "scrolled": true
   },
   "outputs": [
    {
     "name": "stdout",
     "output_type": "stream",
     "text": [
      "15\n",
      "[5.0, 5.0, 4.0, 3.0, 3.0, 5.0]\n",
      "[[0, 0, 0, 1, 1, 1, 0, 0, 0, 0, 0, 0, 0, 0, 0], [0, 0, 0, 0, 0, 0, 1, 1, 0, 0, 0, 0, 0, 0, 0], [1, 1, 1, 0, 0, 0, 0, 0, 0, 0, 0, 0, 0, 0, 0], [0, 0, 0, 0, 0, 0, 0, 0, 0, 1, 1, 1, 0, 0, 0], [0, 0, 0, 0, 0, 0, 0, 0, 1, 0, 0, 0, 0, 0, 0], [0, 0, 0, 0, 0, 0, 0, 0, 0, 0, 0, 0, 1, 1, 1]]\n",
      "defaultdict(<type 'int'>, {'B410583770': 1, 'B282831257': 5, 'B408037852': 0, 'B088348224': 3, 'B423621081': 2, 'B611740995': 4})\n",
      "defaultdict(<type 'int'>, {u'European Restaurant': 7, u'Garden': 10, u'Hamburger Restaurant': 8, u'Garden Center': 11, u'American Restaurant': 0, u\"Women's Clothing Store\": 3, u'Fondue Restaurant': 12, u'Shoe Store': 5, u'Wine Bar': 14, u'Fashion Accessories Store': 4, u'Park': 9, u'Live Music Venue': 13, u'Italian Restaurant': 6, u'Hot Dog Restaurant': 2, u'Cafe': 1})\n",
      "[[0, 0, 0, 1.0, 1.0, 1.0, 0, 0, 0, 0, 0, 0, 0, 0, 0], [0, 0, 0, 0, 0, 0, 1.0, 1.0, 0, 0, 0, 0, 0, 0, 0], [1.0, 1.0, 1.0, 0, 0, 0, 0, 0, 0, 0, 0, 0, 0, 0, 0], [0, 0, 0, 0, 0, 0, 0, 0, 0, 1.0, 1.0, 1.0, 0, 0, 0], [0, 0, 0, 0, 0, 0, 0, 0, 1.0, 0, 0, 0, 0, 0, 0], [0, 0, 0, 0, 0, 0, 0, 0, 0, 0, 0, 0, 1.0, 1.0, 1.0]]\n",
      "defaultdict(<type 'int'>, {'U004020913': 5, 'U093387342': 0, 'U189370087': 3, 'U985118747': 4, 'U985379327': 2, 'U637588426': 1})\n"
     ]
    }
   ],
   "source": [
    "print len(categoryList)\n",
    "print businessAvg\n",
    "print businessCategory\n",
    "print businessDict\n",
    "print categoryDict\n",
    "print userHistory\n",
    "print userDict"
   ]
  },
  {
   "cell_type": "code",
   "execution_count": 35,
   "metadata": {},
   "outputs": [],
   "source": [
    "def feature(b,u):\n",
    "    feat = [businessAvg[businessDict[b]]]\n",
    "    feat.extend(np.multiply(userHistory[userDict[u]], businessCategory[businessDict[b]]))\n",
    "    return feat"
   ]
  },
  {
   "cell_type": "code",
   "execution_count": 36,
   "metadata": {},
   "outputs": [
    {
     "name": "stdout",
     "output_type": "stream",
     "text": [
      "[[4.0, 1.0, 1.0, 1.0, 0.0, 0.0, 0.0, 0.0, 0.0, 0.0, 0.0, 0.0, 0.0, 0.0, 0.0, 0.0], [5.0, 0.0, 0.0, 0.0, 1.0, 1.0, 1.0, 0.0, 0.0, 0.0, 0.0, 0.0, 0.0, 0.0, 0.0, 0.0], [5.0, 0.0, 0.0, 0.0, 0.0, 0.0, 0.0, 1.0, 1.0, 0.0, 0.0, 0.0, 0.0, 0.0, 0.0, 0.0], [3.0, 0.0, 0.0, 0.0, 0.0, 0.0, 0.0, 0.0, 0.0, 1.0, 0.0, 0.0, 0.0, 0.0, 0.0, 0.0], [3.0, 0.0, 0.0, 0.0, 0.0, 0.0, 0.0, 0.0, 0.0, 0.0, 1.0, 1.0, 1.0, 0.0, 0.0, 0.0], [5.0, 0.0, 0.0, 0.0, 0.0, 0.0, 0.0, 0.0, 0.0, 0.0, 0.0, 0.0, 0.0, 1.0, 1.0, 1.0]]\n"
     ]
    }
   ],
   "source": [
    "train_feature = [feature(d['businessID'], d['userID']) for d in train_data]\n",
    "print train_feature\n",
    "#validation_feature = [feature(d['businessID'], d['userID']) for d in validation_data].extend([feature(b,u) for u,b in negative_pair])"
   ]
  },
  {
   "cell_type": "code",
   "execution_count": null,
   "metadata": {},
   "outputs": [],
   "source": []
  }
 ],
 "metadata": {
  "kernelspec": {
   "display_name": "Python 2",
   "language": "python",
   "name": "python2"
  },
  "language_info": {
   "codemirror_mode": {
    "name": "ipython",
    "version": 2
   },
   "file_extension": ".py",
   "mimetype": "text/x-python",
   "name": "python",
   "nbconvert_exporter": "python",
   "pygments_lexer": "ipython2",
   "version": "2.7.12"
  }
 },
 "nbformat": 4,
 "nbformat_minor": 2
}
