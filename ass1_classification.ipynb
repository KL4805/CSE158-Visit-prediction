{
 "cells": [
  {
   "cell_type": "code",
   "execution_count": 32,
   "metadata": {},
   "outputs": [],
   "source": [
    "import numpy as np\n",
    "import scipy as sp\n",
    "import sklearn\n",
    "import nltk\n",
    "import tensorflow as tf\n",
    "import matplotlib\n",
    "import gzip\n",
    "import random\n",
    "from collections import defaultdict\n",
    "import sklearn.decomposition\n",
    "\n",
    "regularization_rate = 0.01\n",
    "Reduction_Size = 20\n",
    "batch_size = 200\n",
    "max_iter = 50000\n",
    "learning_rate = 0.0001\n",
    "\n",
    "def readGz(f):\n",
    "  for l in gzip.open(f):\n",
    "    yield eval(l)"
   ]
  },
  {
   "cell_type": "code",
   "execution_count": 48,
   "metadata": {},
   "outputs": [],
   "source": [
    "data = []\n",
    "for l in readGz('train.json.gz'):\n",
    "    data.append(l)\n"
   ]
  },
  {
   "cell_type": "code",
   "execution_count": 49,
   "metadata": {},
   "outputs": [],
   "source": [
    "userList = []\n",
    "businessList = []\n",
    "userDict = defaultdict(int)\n",
    "businessDict = defaultdict(int)\n",
    "visitedDict = defaultdict(int)\n",
    "for d in data:\n",
    "    u = d['userID']\n",
    "    b = d['businessID']\n",
    "    if u not in userList:\n",
    "        userList.append(u)\n",
    "    if b not in businessList:\n",
    "        businessList.append(b)\n",
    "    visitedDict[(u,b)]+=1\n",
    "\n",
    "    \n",
    "for i in range(len(userList)):\n",
    "    userDict[userList[i]] = i\n",
    "for i in range(len(businessList)):\n",
    "    businessDict[businessList[i]] = i"
   ]
  },
  {
   "cell_type": "code",
   "execution_count": 50,
   "metadata": {},
   "outputs": [
    {
     "name": "stdout",
     "output_type": "stream",
     "text": [
      "4.2\n"
     ]
    }
   ],
   "source": [
    "random.shuffle(data)\n",
    "train_data = data\n",
    "\n",
    "#validation_data = data[160000:200000]\n",
    "negative_pair = []\n",
    "randomCnt = 0\n",
    "while(randomCnt) < 40000:\n",
    "    ruIndex = random.randint(0, len(userList)-1)\n",
    "    rbIndex = random.randint(0, len(businessList)-1)\n",
    "    ru = userList[ruIndex]\n",
    "    rb = businessList[rbIndex]\n",
    "    if visitedDict[(ru, rb)]==0:\n",
    "        randomCnt +=1\n",
    "        negative_pair.append((ru,rb))\n",
    "#Finished creating dataset\n",
    "\n",
    "ratings = np.array([d['rating'] for d in train_data])\n",
    "avgRating = np.mean(ratings)\n",
    "print avgRating\n"
   ]
  },
  {
   "cell_type": "code",
   "execution_count": 51,
   "metadata": {},
   "outputs": [],
   "source": [
    "def Mean(lst):\n",
    "    if len(lst) != 0:\n",
    "        return np.mean(lst)\n",
    "    else:\n",
    "        return avgRating"
   ]
  },
  {
   "cell_type": "code",
   "execution_count": 52,
   "metadata": {},
   "outputs": [
    {
     "name": "stdout",
     "output_type": "stream",
     "text": [
      "[5.0, 5.0, 4.0, 3.0, 3.0, 5.0, 4.0, 5.0, 4.0, 4.0]\n"
     ]
    }
   ],
   "source": [
    "businessRat = [[] for i in range(len(businessList))]\n",
    "for d in train_data:\n",
    "    businessRat[businessDict[d['businessID']]].append(d['rating'])\n",
    "businessAvg = [Mean(businessRat[i]) for i in range(len(businessList))]\n",
    "print businessAvg[:20]"
   ]
  },
  {
   "cell_type": "code",
   "execution_count": 53,
   "metadata": {},
   "outputs": [],
   "source": [
    "categoryList = []\n",
    "for d in train_data:\n",
    "    for c in d['categories']:\n",
    "        if c not in categoryList:\n",
    "            categoryList.append(c)\n",
    "categoryDict = defaultdict(int)\n",
    "for c in categoryList:\n",
    "    categoryDict[c] = categoryList.index(c)\n",
    "\n",
    "businessCategory = [[0 for j in range(len(categoryList))] for i in range(len(businessList))]\n",
    "userHistory = [[0 for j in range(len(categoryList))] for i in range(len(userList))]\n",
    "for d in train_data:\n",
    "    for c in d['categories']:\n",
    "        userHistory[userDict[d['userID']]][categoryDict[c]]+=1.0\n",
    "        businessCategory[businessDict[d['businessID']]][categoryDict[c]]=1\n"
   ]
  },
  {
   "cell_type": "code",
   "execution_count": 58,
   "metadata": {},
   "outputs": [],
   "source": [
    "def feature(b,u):\n",
    "    feat = np.array([businessAvg[businessDict[b]]])\n",
    "    extension = np.array(userHistory[userDict[u]])\n",
    "    print (\"norm = %f\"%np.linalg.norm(extension))\n",
    "\n",
    "    extension = np.divide(extension, np.linalg.norm(extension))\n",
    "    cat = np.array(businessCategory[businessDict[b]])\n",
    "    print (\"norm = %f\"%np.linalg.norm(cat))\n",
    "    cat = np.divide(cat, np.linalg.norm(cat))\n",
    "    extension = np.multiply(extension, cat)\n",
    "    feat = np.concatenate((feat,extension))\n",
    "    return feat"
   ]
  },
  {
   "cell_type": "code",
   "execution_count": 59,
   "metadata": {},
   "outputs": [
    {
     "name": "stdout",
     "output_type": "stream",
     "text": [
      "norm = 1.732051\n",
      "norm = 1.732051\n",
      "norm = 1.414214\n",
      "norm = 1.414214\n",
      "norm = 1.732051\n",
      "norm = 1.732051\n",
      "norm = 1.414214\n",
      "norm = 1.414214\n",
      "norm = 1.732051\n",
      "norm = 1.732051\n",
      "norm = 1.732051\n",
      "norm = 1.732051\n",
      "norm = 1.000000\n",
      "norm = 1.000000\n",
      "norm = 1.732051\n",
      "norm = 1.732051\n",
      "norm = 1.732051\n",
      "norm = 1.732051\n",
      "norm = 1.000000\n",
      "norm = 1.000000\n",
      "norm = 1.732051\n",
      "norm = 1.000000\n",
      "norm = 1.732051\n",
      "norm = 1.414214\n",
      "norm = 1.414214\n",
      "norm = 1.732051\n",
      "norm = 1.414214\n",
      "norm = 1.000000\n",
      "norm = 1.000000\n",
      "norm = 1.414214\n",
      "norm = 1.732051\n",
      "norm = 1.000000\n",
      "norm = 1.732051\n",
      "norm = 1.414214\n",
      "norm = 1.000000\n",
      "norm = 1.414214\n",
      "norm = 1.732051\n",
      "norm = 1.414214\n",
      "norm = 1.732051\n",
      "norm = 1.732051\n",
      "[array([ 4.        ,  0.33333333,  0.33333333,  0.33333333,  0.        ,\n",
      "        0.        ,  0.        ,  0.        ,  0.        ,  0.        ,\n",
      "        0.        ,  0.        ,  0.        ,  0.        ,  0.        ,\n",
      "        0.        ,  0.        ,  0.        ,  0.        ,  0.        ,\n",
      "        0.        ,  0.        ,  0.        ]), array([ 5. ,  0. ,  0. ,  0. ,  0.5,  0.5,  0. ,  0. ,  0. ,  0. ,  0. ,\n",
      "        0. ,  0. ,  0. ,  0. ,  0. ,  0. ,  0. ,  0. ,  0. ,  0. ,  0. ,\n",
      "        0. ]), array([ 3.        ,  0.        ,  0.        ,  0.        ,  0.        ,\n",
      "        0.        ,  0.33333333,  0.33333333,  0.33333333,  0.        ,\n",
      "        0.        ,  0.        ,  0.        ,  0.        ,  0.        ,\n",
      "        0.        ,  0.        ,  0.        ,  0.        ,  0.        ,\n",
      "        0.        ,  0.        ,  0.        ]), array([ 4. ,  0. ,  0. ,  0. ,  0. ,  0. ,  0. ,  0. ,  0. ,  0.5,  0.5,\n",
      "        0. ,  0. ,  0. ,  0. ,  0. ,  0. ,  0. ,  0. ,  0. ,  0. ,  0. ,\n",
      "        0. ]), array([ 4.        ,  0.        ,  0.        ,  0.        ,  0.        ,\n",
      "        0.        ,  0.        ,  0.        ,  0.        ,  0.        ,\n",
      "        0.        ,  0.33333333,  0.33333333,  0.33333333,  0.        ,\n",
      "        0.        ,  0.        ,  0.        ,  0.        ,  0.        ,\n",
      "        0.        ,  0.        ,  0.        ]), array([ 5.        ,  0.        ,  0.        ,  0.        ,  0.        ,\n",
      "        0.        ,  0.        ,  0.        ,  0.        ,  0.        ,\n",
      "        0.        ,  0.        ,  0.        ,  0.        ,  0.33333333,\n",
      "        0.33333333,  0.33333333,  0.        ,  0.        ,  0.        ,\n",
      "        0.        ,  0.        ,  0.        ]), array([ 4.,  0.,  0.,  0.,  0.,  0.,  0.,  0.,  0.,  0.,  0.,  0.,  0.,\n",
      "        0.,  0.,  0.,  0.,  1.,  0.,  0.,  0.,  0.,  0.]), array([ 5.        ,  0.        ,  0.        ,  0.        ,  0.        ,\n",
      "        0.        ,  0.        ,  0.        ,  0.        ,  0.        ,\n",
      "        0.        ,  0.        ,  0.        ,  0.        ,  0.        ,\n",
      "        0.        ,  0.        ,  0.        ,  0.33333333,  0.33333333,\n",
      "        0.33333333,  0.        ,  0.        ]), array([ 5.        ,  0.        ,  0.        ,  0.        ,  0.33333333,\n",
      "        0.33333333,  0.        ,  0.        ,  0.        ,  0.        ,\n",
      "        0.        ,  0.        ,  0.        ,  0.        ,  0.        ,\n",
      "        0.        ,  0.        ,  0.        ,  0.        ,  0.        ,\n",
      "        0.        ,  0.33333333,  0.        ]), array([ 3.,  0.,  0.,  0.,  0.,  0.,  0.,  0.,  0.,  0.,  0.,  0.,  0.,\n",
      "        0.,  0.,  0.,  0.,  0.,  0.,  0.,  0.,  0.,  1.]), array([ 4.,  0.,  0.,  0.,  0.,  0.,  0.,  0.,  0.,  0.,  0.,  0.,  0.,\n",
      "        0.,  0.,  0.,  0.,  0.,  0.,  0.,  0.,  0.,  0.]), array([ 4.,  0.,  0.,  0.,  0.,  0.,  0.,  0.,  0.,  0.,  0.,  0.,  0.,\n",
      "        0.,  0.,  0.,  0.,  0.,  0.,  0.,  0.,  0.,  0.]), array([ 5.,  0.,  0.,  0.,  0.,  0.,  0.,  0.,  0.,  0.,  0.,  0.,  0.,\n",
      "        0.,  0.,  0.,  0.,  0.,  0.,  0.,  0.,  0.,  0.]), array([ 3.,  0.,  0.,  0.,  0.,  0.,  0.,  0.,  0.,  0.,  0.,  0.,  0.,\n",
      "        0.,  0.,  0.,  0.,  0.,  0.,  0.,  0.,  0.,  0.]), array([ 4.,  0.,  0.,  0.,  0.,  0.,  0.,  0.,  0.,  0.,  0.,  0.,  0.,\n",
      "        0.,  0.,  0.,  0.,  0.,  0.,  0.,  0.,  0.,  0.]), array([ 4.,  0.,  0.,  0.,  0.,  0.,  0.,  0.,  0.,  0.,  0.,  0.,  0.,\n",
      "        0.,  0.,  0.,  0.,  0.,  0.,  0.,  0.,  0.,  0.]), array([ 5.        ,  0.        ,  0.        ,  0.        ,  0.40824829,\n",
      "        0.40824829,  0.        ,  0.        ,  0.        ,  0.        ,\n",
      "        0.        ,  0.        ,  0.        ,  0.        ,  0.        ,\n",
      "        0.        ,  0.        ,  0.        ,  0.        ,  0.        ,\n",
      "        0.        ,  0.        ,  0.        ]), array([ 5.,  0.,  0.,  0.,  0.,  0.,  0.,  0.,  0.,  0.,  0.,  0.,  0.,\n",
      "        0.,  0.,  0.,  0.,  0.,  0.,  0.,  0.,  0.,  0.]), array([ 4.,  0.,  0.,  0.,  0.,  0.,  0.,  0.,  0.,  0.,  0.,  0.,  0.,\n",
      "        0.,  0.,  0.,  0.,  0.,  0.,  0.,  0.,  0.,  0.]), array([ 4.,  0.,  0.,  0.,  0.,  0.,  0.,  0.,  0.,  0.,  0.,  0.,  0.,\n",
      "        0.,  0.,  0.,  0.,  0.,  0.,  0.,  0.,  0.,  0.])]\n"
     ]
    }
   ],
   "source": [
    "train_feature = [feature(d['businessID'], d['userID']) for d in train_data]\n",
    "train_feature.extend([feature(b,u) for u,b in negative_pair[:10]])\n",
    "#print train_feature\n",
    "#validation_feature = [feature(d['businessID'], d['userID']) for d in validation_data].extend([feature(b,u) for u,b in negative_pair])\n",
    "print train_feature"
   ]
  },
  {
   "cell_type": "code",
   "execution_count": null,
   "metadata": {},
   "outputs": [],
   "source": []
  },
  {
   "cell_type": "code",
   "execution_count": null,
   "metadata": {},
   "outputs": [],
   "source": []
  }
 ],
 "metadata": {
  "kernelspec": {
   "display_name": "Python 2",
   "language": "python",
   "name": "python2"
  },
  "language_info": {
   "codemirror_mode": {
    "name": "ipython",
    "version": 2
   },
   "file_extension": ".py",
   "mimetype": "text/x-python",
   "name": "python",
   "nbconvert_exporter": "python",
   "pygments_lexer": "ipython2",
   "version": "2.7.12"
  }
 },
 "nbformat": 4,
 "nbformat_minor": 2
}
