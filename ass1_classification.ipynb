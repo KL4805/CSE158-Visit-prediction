{
 "cells": [
  {
   "cell_type": "code",
   "execution_count": 12,
   "metadata": {},
   "outputs": [],
   "source": [
    "import numpy as np\n",
    "import scipy as sp\n",
    "import sklearn\n",
    "import nltk\n",
    "import tensorflow as tf\n",
    "import matplotlib\n",
    "import gzip\n",
    "import random\n",
    "from collections import defaultdict\n",
    "import sklearn.decomposition\n",
    "\n",
    "regularization_rate = 0.01\n",
    "Reduction_Size = 20\n",
    "batch_size = 200\n",
    "max_iter = 50000\n",
    "learning_rate = 0.0001\n",
    "\n",
    "def readGz(f):\n",
    "  for l in gzip.open(f):\n",
    "    yield eval(l)"
   ]
  },
  {
   "cell_type": "code",
   "execution_count": 13,
   "metadata": {},
   "outputs": [],
   "source": [
    "data = []\n",
    "for l in readGz('train.json.gz'):\n",
    "    data.append(l)"
   ]
  },
  {
   "cell_type": "code",
   "execution_count": 14,
   "metadata": {},
   "outputs": [],
   "source": [
    "userList = []\n",
    "businessList = []\n",
    "userDict = defaultdict(int)\n",
    "businessDict = defaultdict(int)\n",
    "visitedDict = defaultdict(int)\n",
    "for d in data:\n",
    "    u = d['userID']\n",
    "    b = d['businessID']\n",
    "    if u not in userList:\n",
    "        userList.append(u)\n",
    "    if b not in businessList:\n",
    "        businessList.append(b)\n",
    "    visitedDict[(u,b)]+=1\n",
    "\n",
    "    \n",
    "for i in range(len(userList)):\n",
    "    userDict[userList[i]] = i\n",
    "for i in range(len(businessList)):\n",
    "    businessDict[businessList[i]] = i"
   ]
  },
  {
   "cell_type": "code",
   "execution_count": 15,
   "metadata": {},
   "outputs": [
    {
     "name": "stdout",
     "output_type": "stream",
     "text": [
      "4.1837625\n"
     ]
    }
   ],
   "source": [
    "random.shuffle(data)\n",
    "train_data = data[0:160000]\n",
    "validation_data = data[160000:200000]\n",
    "negative_pair = []\n",
    "randomCnt = 0\n",
    "while(randomCnt) < 40000:\n",
    "    ruIndex = random.randint(0, len(userList)-1)\n",
    "    rbIndex = random.randint(0, len(businessList)-1)\n",
    "    ru = userList[ruIndex]\n",
    "    rb = businessList[rbIndex]\n",
    "    if visitedDict[(ru, rb)]==0:\n",
    "        randomCnt +=1\n",
    "        negative_pair.append((ru,rb))\n",
    "#Finished creating dataset\n",
    "\n",
    "ratings = np.array([d['rating'] for d in train_data])\n",
    "avgRating = np.mean(ratings)\n",
    "print avgRating\n"
   ]
  },
  {
   "cell_type": "code",
   "execution_count": 16,
   "metadata": {},
   "outputs": [],
   "source": [
    "def Mean(lst):\n",
    "    if len(lst) != 0:\n",
    "        return np.mean(lst)\n",
    "    else:\n",
    "        return avgRating"
   ]
  },
  {
   "cell_type": "code",
   "execution_count": 17,
   "metadata": {},
   "outputs": [
    {
     "name": "stdout",
     "output_type": "stream",
     "text": [
      "[4.333333333333333, 4.3125, 4.2321428571428568, 4.32258064516129, 3.8695652173913042, 4.5555555555555554, 4.4285714285714288, 4.75, 4.333333333333333, 4.2000000000000002, 4.3513513513513518, 5.0, 3.9333333333333331, 4.666666666666667, 3.48, 4.3529411764705879, 4.0, 4.333333333333333, 4.2307692307692308, 3.3125]\n"
     ]
    }
   ],
   "source": [
    "businessRat = [[] for i in range(len(businessList))]\n",
    "for d in train_data:\n",
    "    businessRat[businessDict[d['businessID']]].append(d['rating'])\n",
    "businessAvg = [Mean(businessRat[i]) for i in range(len(businessList))]\n",
    "print businessAvg[:20]"
   ]
  },
  {
   "cell_type": "code",
   "execution_count": 18,
   "metadata": {},
   "outputs": [],
   "source": [
    "categoryList = []\n",
    "for d in train_data:\n",
    "    for c in d['categories']:\n",
    "        if c not in categoryList:\n",
    "            categoryList.append(c)\n",
    "categoryDict = defaultdict(int)\n",
    "for c in categoryList:\n",
    "    categoryDict[c] = categoryList.index(c)\n",
    "\n",
    "businessCategory = [[0 for j in range(len(categoryList))] for i in range(len(businessList))]\n",
    "userHistory = [[0 for j in range(len(categoryList))] for i in range(len(userList))]\n",
    "for d in train_data:\n",
    "    for c in d['categories']:\n",
    "        userHistory[userDict[d['userID']]][categoryDict[c]]+=1\n",
    "        businessCategory[businessDict[d['businessID']]][categoryDict[c]]=1\n"
   ]
  },
  {
   "cell_type": "code",
   "execution_count": 32,
   "metadata": {
    "scrolled": true
   },
   "outputs": [
    {
     "name": "stdout",
     "output_type": "stream",
     "text": [
      "1377\n"
     ]
    }
   ],
   "source": [
    "print len(categoryList)"
   ]
  },
  {
   "cell_type": "code",
   "execution_count": 33,
   "metadata": {},
   "outputs": [
    {
     "data": {
      "text/plain": [
       "PCA(copy=True, iterated_power='auto', n_components=100, random_state=None,\n",
       "  svd_solver='auto', tol=0.0, whiten=False)"
      ]
     },
     "execution_count": 33,
     "metadata": {},
     "output_type": "execute_result"
    }
   ],
   "source": [
    "userFeature = userHistory\n",
    "upca = sklearn.decomposition.PCA(n_components = 100)\n",
    "upca.fit_transform(userFeature)"
   ]
  },
  {
   "cell_type": "code",
   "execution_count": 31,
   "metadata": {},
   "outputs": [
    {
     "data": {
      "text/plain": [
       "array([[  6.54078024e-02,  -3.10653514e-01,  -7.22668931e-01, ...,\n",
       "         -2.53080315e-02,   1.45480318e-02,  -1.97314439e-02],\n",
       "       [  6.38223598e-02,  -1.42687402e-01,  -8.90246835e-02, ...,\n",
       "         -1.04715357e-02,  -7.34107850e-03,  -2.69243332e-03],\n",
       "       [  9.57445692e-03,  -1.21376772e-01,  -2.59730650e-01, ...,\n",
       "         -2.77442673e-03,  -2.55326663e-03,  -2.44148454e-05],\n",
       "       ..., \n",
       "       [ -6.73981116e-01,   3.06708280e-01,  -1.69974917e-01, ...,\n",
       "          7.55238017e-03,  -5.91927412e-03,  -2.65613139e-03],\n",
       "       [  1.58762470e-01,  -5.81510668e-01,   8.98840613e-01, ...,\n",
       "          3.43226346e-03,   1.17168618e-03,   1.90765023e-03],\n",
       "       [  6.37171636e-02,  -1.42412980e-01,  -8.87750734e-02, ...,\n",
       "         -9.47450306e-03,  -6.58481645e-03,  -2.41174523e-03]])"
      ]
     },
     "execution_count": 31,
     "metadata": {},
     "output_type": "execute_result"
    }
   ],
   "source": [
    "categoryFeature = [businessCategory[businessDict[d['businessID']]] for d in train_data]\n",
    "pca = sklearn.decomposition.PCA(n_components = 100)\n",
    "pca.fit_transform(categoryFeature)"
   ]
  },
  {
   "cell_type": "code",
   "execution_count": 39,
   "metadata": {},
   "outputs": [],
   "source": [
    "def feature(b,u):\n",
    "    feat = [businessAvg[businessDict[b]]]\n",
    "    feat.extend(userFeature[userDict[u]])\n",
    "    feat.extend(categoryFeature[businessDict[b]])\n",
    "    return feat"
   ]
  },
  {
   "cell_type": "code",
   "execution_count": null,
   "metadata": {},
   "outputs": [],
   "source": [
    "train_feature = [feature(d['businessID'], d['userID']) for d in train_data]\n",
    "validation_feature = [feature(d['businessID'], d['userID']) for d in validation_data].extend([feature(b,u) for u,b in negative_pair])"
   ]
  },
  {
   "cell_type": "code",
   "execution_count": null,
   "metadata": {},
   "outputs": [],
   "source": []
  }
 ],
 "metadata": {
  "kernelspec": {
   "display_name": "Python 2",
   "language": "python",
   "name": "python2"
  },
  "language_info": {
   "codemirror_mode": {
    "name": "ipython",
    "version": 2
   },
   "file_extension": ".py",
   "mimetype": "text/x-python",
   "name": "python",
   "nbconvert_exporter": "python",
   "pygments_lexer": "ipython2",
   "version": "2.7.12"
  }
 },
 "nbformat": 4,
 "nbformat_minor": 2
}
